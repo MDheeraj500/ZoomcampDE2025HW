{
 "cells": [
  {
   "cell_type": "code",
   "execution_count": 2,
   "id": "03e44257-2643-4b56-96ad-1f910508bbf0",
   "metadata": {},
   "outputs": [],
   "source": [
    "import pyspark\n",
    "from pyspark.sql import SparkSession\n",
    "from pyspark.sql import types"
   ]
  },
  {
   "cell_type": "code",
   "execution_count": 3,
   "id": "2ada4740-b1dd-4272-a774-b31ae33e9802",
   "metadata": {},
   "outputs": [
    {
     "data": {
      "text/plain": [
       "'3.3.2'"
      ]
     },
     "execution_count": 3,
     "metadata": {},
     "output_type": "execute_result"
    }
   ],
   "source": [
    "pyspark.__version__"
   ]
  },
  {
   "cell_type": "code",
   "execution_count": 4,
   "id": "116e1cb0-ae6c-4aaf-ad57-6537e347cc88",
   "metadata": {},
   "outputs": [
    {
     "name": "stderr",
     "output_type": "stream",
     "text": [
      "Setting default log level to \"WARN\".\n",
      "To adjust logging level use sc.setLogLevel(newLevel). For SparkR, use setLogLevel(newLevel).\n"
     ]
    },
    {
     "name": "stdout",
     "output_type": "stream",
     "text": [
      "25/03/07 17:25:02 WARN NativeCodeLoader: Unable to load native-hadoop library for your platform... using builtin-java classes where applicable\n"
     ]
    }
   ],
   "source": [
    "spark = SparkSession.builder \\\n",
    "        .master(\"local[*]\") \\\n",
    "        .getOrCreate()"
   ]
  },
  {
   "cell_type": "code",
   "execution_count": 5,
   "id": "08dd63cb-589e-427f-82ad-804fca9ae0ee",
   "metadata": {},
   "outputs": [
    {
     "name": "stdout",
     "output_type": "stream",
     "text": [
      "/home/dheeru_user/notebooks\n"
     ]
    }
   ],
   "source": [
    "!pwd"
   ]
  },
  {
   "cell_type": "code",
   "execution_count": 6,
   "id": "b2afc2ce-1aa3-40ac-955e-b68e2c6bb7ad",
   "metadata": {},
   "outputs": [
    {
     "name": "stderr",
     "output_type": "stream",
     "text": [
      "                                                                                \r"
     ]
    }
   ],
   "source": [
    "df = spark.read\\\n",
    "    .option(\"header\",\"true\")\\\n",
    "    .parquet(\"/home/dheeru_user/spark/data/homework/yellow_tripdata_2024-10/yellow_tripdata_2024-10.parquet\")"
   ]
  },
  {
   "cell_type": "code",
   "execution_count": 7,
   "id": "ec59b9f6-a531-4ef2-90b9-c786b338b0bf",
   "metadata": {},
   "outputs": [
    {
     "name": "stderr",
     "output_type": "stream",
     "text": [
      "[Stage 1:>                                                          (0 + 1) / 1]\r"
     ]
    },
    {
     "name": "stdout",
     "output_type": "stream",
     "text": [
      "+--------+--------------------+---------------------+---------------+-------------+----------+------------------+------------+------------+------------+-----------+-----+-------+----------+------------+---------------------+------------+--------------------+-----------+\n",
      "|VendorID|tpep_pickup_datetime|tpep_dropoff_datetime|passenger_count|trip_distance|RatecodeID|store_and_fwd_flag|PULocationID|DOLocationID|payment_type|fare_amount|extra|mta_tax|tip_amount|tolls_amount|improvement_surcharge|total_amount|congestion_surcharge|Airport_fee|\n",
      "+--------+--------------------+---------------------+---------------+-------------+----------+------------------+------------+------------+------------+-----------+-----+-------+----------+------------+---------------------+------------+--------------------+-----------+\n",
      "|       2| 2024-10-01 00:30:44|  2024-10-01 00:48:26|              1|          3.0|         1|                 N|         162|         246|           1|       18.4|  1.0|    0.5|       1.5|         0.0|                  1.0|        24.9|                 2.5|        0.0|\n",
      "|       1| 2024-10-01 00:12:20|  2024-10-01 00:25:25|              1|          2.2|         1|                 N|          48|         236|           1|       14.2|  3.5|    0.5|       3.8|         0.0|                  1.0|        23.0|                 2.5|        0.0|\n",
      "|       1| 2024-10-01 00:04:46|  2024-10-01 00:13:52|              1|          2.7|         1|                 N|         142|          24|           1|       13.5|  3.5|    0.5|       3.7|         0.0|                  1.0|        22.2|                 2.5|        0.0|\n",
      "|       1| 2024-10-01 00:12:10|  2024-10-01 00:23:01|              1|          3.1|         1|                 N|         233|          75|           1|       14.2|  3.5|    0.5|       2.0|         0.0|                  1.0|        21.2|                 2.5|        0.0|\n",
      "|       1| 2024-10-01 00:30:22|  2024-10-01 00:30:39|              1|          0.0|         1|                 N|         262|         262|           3|        3.0|  3.5|    0.5|       0.0|         0.0|                  1.0|         8.0|                 2.5|        0.0|\n",
      "|       2| 2024-10-01 00:31:20|  2024-10-01 00:36:00|              2|         0.97|         1|                 N|         137|         137|           1|        7.2|  1.0|    0.5|      2.44|         0.0|                  1.0|       14.64|                 2.5|        0.0|\n",
      "|       1| 2024-10-01 00:42:57|  2024-10-01 00:49:01|              1|          1.3|         1|                 N|         142|          48|           1|        7.9|  3.5|    0.5|      2.55|         0.0|                  1.0|       15.45|                 2.5|        0.0|\n",
      "|       1| 2024-10-01 00:59:55|  2024-10-01 01:02:24|              1|          0.5|         1|                 N|         230|         161|           1|        5.1|  3.5|    0.5|       2.0|         0.0|                  1.0|        12.1|                 2.5|        0.0|\n",
      "|       1| 2024-10-01 00:00:47|  2024-10-01 00:04:22|              0|          1.1|         1|                 N|         142|         237|           1|        7.2|  3.5|    0.5|       3.0|         0.0|                  1.0|        15.2|                 2.5|        0.0|\n",
      "|       1| 2024-10-01 00:17:36|  2024-10-01 00:26:22|              1|          2.2|         1|                 N|         162|         145|           1|       11.4|  3.5|    0.5|       3.3|         0.0|                  1.0|        19.7|                 2.5|        0.0|\n",
      "|       1| 2024-10-01 00:49:00|  2024-10-01 00:52:20|              1|          0.6|         1|                 N|         229|         162|           1|        5.1|  3.5|    0.5|       2.0|         0.0|                  1.0|        12.1|                 2.5|        0.0|\n",
      "|       2| 2024-10-01 00:07:26|  2024-10-01 00:13:20|              1|          0.9|         1|                 N|         162|         162|           1|        7.9|  1.0|    0.5|      3.87|         0.0|                  1.0|       16.77|                 2.5|        0.0|\n",
      "|       2| 2024-10-01 00:17:11|  2024-10-01 00:25:00|              1|         1.33|         1|                 N|         162|         230|           1|        9.3|  1.0|    0.5|       2.0|         0.0|                  1.0|        16.3|                 2.5|        0.0|\n",
      "|       2| 2024-10-01 00:00:34|  2024-10-01 00:05:13|              1|         1.79|         1|                 N|         211|         234|           1|        9.3|  1.0|    0.5|      2.86|         0.0|                  1.0|       17.16|                 2.5|        0.0|\n",
      "|       2| 2024-09-30 23:58:40|  2024-10-01 00:20:26|              1|         5.16|         1|                 N|         142|           7|           1|       24.7|  1.0|    0.5|       0.0|         0.0|                  1.0|        29.7|                 2.5|        0.0|\n",
      "|       1| 2024-10-01 00:55:29|  2024-10-01 01:42:35|              1|         11.3|        99|                 N|         161|         197|           1|       39.5|  0.0|    0.5|       0.0|        6.94|                  1.0|       47.94|                 0.0|        0.0|\n",
      "|       1| 2024-10-01 00:08:59|  2024-10-01 00:40:58|              1|         20.6|         1|                 N|         132|         243|           2|       76.5| 2.75|    0.5|       0.0|        6.94|                  1.0|       87.69|                 0.0|       1.75|\n",
      "|       2| 2024-10-01 00:18:38|  2024-10-01 00:36:47|              2|         7.42|         1|                 N|         239|         247|           4|      -33.1| -1.0|   -0.5|       0.0|         0.0|                 -1.0|       -38.1|                -2.5|        0.0|\n",
      "|       2| 2024-10-01 00:18:38|  2024-10-01 00:36:47|              2|         7.42|         1|                 N|         239|         247|           4|       33.1|  1.0|    0.5|       0.0|         0.0|                  1.0|        38.1|                 2.5|        0.0|\n",
      "|       2| 2024-10-01 00:39:33|  2024-10-01 00:53:59|              1|         4.49|         1|                 N|         247|          60|           2|       21.9|  1.0|    0.5|       0.0|         0.0|                  1.0|        24.4|                 0.0|        0.0|\n",
      "+--------+--------------------+---------------------+---------------+-------------+----------+------------------+------------+------------+------------+-----------+-----+-------+----------+------------+---------------------+------------+--------------------+-----------+\n",
      "only showing top 20 rows\n",
      "\n"
     ]
    },
    {
     "name": "stderr",
     "output_type": "stream",
     "text": [
      "                                                                                \r"
     ]
    }
   ],
   "source": [
    "df.show()"
   ]
  },
  {
   "cell_type": "code",
   "execution_count": 8,
   "id": "0963421b-5f7f-4fd1-9216-aab34c2e11c1",
   "metadata": {},
   "outputs": [],
   "source": [
    "df = df.repartition(4)"
   ]
  },
  {
   "cell_type": "code",
   "execution_count": 9,
   "id": "4fff17e4-9653-4126-817a-f6e8bea40f64",
   "metadata": {},
   "outputs": [
    {
     "name": "stdout",
     "output_type": "stream",
     "text": [
      "/home/dheeru_user/notebooks\n"
     ]
    }
   ],
   "source": [
    "!pwd"
   ]
  },
  {
   "cell_type": "code",
   "execution_count": 11,
   "id": "a57906c7-c7a3-4003-b0ac-d7ad311d12a4",
   "metadata": {},
   "outputs": [
    {
     "name": "stderr",
     "output_type": "stream",
     "text": [
      "                                                                                \r"
     ]
    }
   ],
   "source": [
    "df.write.parquet(path='/home/dheeru_user/spark/data/homework/yellow_tripdata_2024-10_partitioned', mode=\"overwrite\")"
   ]
  },
  {
   "cell_type": "code",
   "execution_count": 12,
   "id": "29a77d38-dbe3-4f22-8ad5-55fed8631c4d",
   "metadata": {},
   "outputs": [],
   "source": [
    "df_yellow = spark.read.parquet('/home/dheeru_user/spark/data/homework/yellow_tripdata_2024-10_partitioned/*')"
   ]
  },
  {
   "cell_type": "code",
   "execution_count": 13,
   "id": "91fed51b-fdac-40d4-9de0-3f968aabb455",
   "metadata": {},
   "outputs": [],
   "source": [
    "from pyspark.sql import functions as F"
   ]
  },
  {
   "cell_type": "code",
   "execution_count": 14,
   "id": "633a5d8b-c5a2-4766-93b9-3f953660c970",
   "metadata": {
    "scrolled": true
   },
   "outputs": [
    {
     "name": "stdout",
     "output_type": "stream",
     "text": [
      "+--------+--------------------+---------------------+---------------+-------------+----------+------------------+------------+------------+------------+-----------+-----+-------+----------+------------+---------------------+------------+--------------------+-----------+\n",
      "|VendorID|tpep_pickup_datetime|tpep_dropoff_datetime|passenger_count|trip_distance|RatecodeID|store_and_fwd_flag|PULocationID|DOLocationID|payment_type|fare_amount|extra|mta_tax|tip_amount|tolls_amount|improvement_surcharge|total_amount|congestion_surcharge|Airport_fee|\n",
      "+--------+--------------------+---------------------+---------------+-------------+----------+------------------+------------+------------+------------+-----------+-----+-------+----------+------------+---------------------+------------+--------------------+-----------+\n",
      "|       2| 2024-10-10 10:34:57|  2024-10-10 10:53:48|              1|          3.4|         1|                 N|         140|          74|           1|       20.5|  0.0|    0.5|      0.24|         0.0|                  1.0|       24.74|                 2.5|        0.0|\n",
      "|       2| 2024-10-08 21:14:57|  2024-10-08 21:47:02|              2|         5.22|         1|                 N|         166|         107|           1|       31.7|  1.0|    0.5|      7.34|         0.0|                  1.0|       44.04|                 2.5|        0.0|\n",
      "|       2| 2024-10-05 18:29:00|  2024-10-05 18:55:30|              1|         5.29|         1|                 N|          79|         255|           1|       28.9|  0.0|    0.5|       0.1|        6.94|                  1.0|       39.94|                 2.5|        0.0|\n",
      "|       2| 2024-10-04 19:13:00|  2024-10-04 19:35:18|              1|         5.42|         1|                 N|          48|         263|           1|       27.5|  2.5|    0.5|      3.74|         0.0|                  1.0|       37.74|                 2.5|        0.0|\n",
      "|       1| 2024-10-01 11:43:18|  2024-10-01 11:47:40|              1|          0.5|         1|                 N|         142|         239|           1|        5.8|  2.5|    0.5|      1.95|         0.0|                  1.0|       11.75|                 2.5|        0.0|\n",
      "|       2| 2024-10-05 14:04:12|  2024-10-05 14:31:41|              1|         3.61|         1|                 N|         262|         107|           1|       26.8|  0.0|    0.5|       4.0|         0.0|                  1.0|        34.8|                 2.5|        0.0|\n",
      "|       2| 2024-10-05 18:19:44|  2024-10-05 18:25:57|              1|         1.15|         1|                 N|         236|         239|           1|        8.6|  0.0|    0.5|      2.52|         0.0|                  1.0|       15.12|                 2.5|        0.0|\n",
      "|       2| 2024-10-07 15:35:26|  2024-10-07 16:07:25|              3|         4.21|         1|                 N|         236|         113|           1|       29.6|  0.0|    0.5|      6.72|         0.0|                  1.0|       40.32|                 2.5|        0.0|\n",
      "|       2| 2024-10-02 07:24:39|  2024-10-02 07:41:08|              1|          2.5|         1|                 N|         234|         143|           1|       17.0|  0.0|    0.5|       4.2|         0.0|                  1.0|        25.2|                 2.5|        0.0|\n",
      "|       1| 2024-10-02 15:48:49|  2024-10-02 15:58:14|              1|          1.2|         1|                 N|         143|         246|           1|       10.0|  2.5|    0.5|       2.8|         0.0|                  1.0|        16.8|                 2.5|        0.0|\n",
      "|       2| 2024-10-02 09:46:32|  2024-10-02 09:50:30|              1|         0.64|         1|                 N|         239|         142|           1|        5.8|  0.0|    0.5|      1.96|         0.0|                  1.0|       11.76|                 2.5|        0.0|\n",
      "|       1| 2024-10-10 19:55:58|  2024-10-10 20:07:37|              1|          1.5|         1|                 N|         161|         237|           1|       10.7|  5.0|    0.5|      3.45|         0.0|                  1.0|       20.65|                 2.5|        0.0|\n",
      "|       1| 2024-10-04 14:57:46|  2024-10-04 15:12:16|              1|          1.9|         1|                 N|         125|         186|           1|       14.9|  2.5|    0.5|      3.75|         0.0|                  1.0|       22.65|                 2.5|        0.0|\n",
      "|       2| 2024-10-03 15:03:30|  2024-10-03 15:12:50|              1|          0.8|         1|                 N|         140|         229|           2|       10.0|  0.0|    0.5|       0.0|         0.0|                  1.0|        14.0|                 2.5|        0.0|\n",
      "|       2| 2024-10-05 23:06:59|  2024-10-05 23:14:11|              1|         0.96|         1|                 N|         161|         162|           1|        7.9|  1.0|    0.5|      2.58|         0.0|                  1.0|       15.48|                 2.5|        0.0|\n",
      "|       1| 2024-10-04 21:04:30|  2024-10-04 21:15:53|              1|          2.5|         1|                 N|          79|         141|           1|       12.8|  3.5|    0.5|      3.55|         0.0|                  1.0|       21.35|                 2.5|        0.0|\n",
      "|       2| 2024-10-04 14:59:15|  2024-10-04 15:08:10|              1|         1.51|         1|                 N|         142|          43|           1|       10.7|  0.0|    0.5|      2.94|         0.0|                  1.0|       17.64|                 2.5|        0.0|\n",
      "|       2| 2024-10-10 12:24:41|  2024-10-10 12:38:29|              1|         0.87|         1|                 N|         237|         229|           1|       12.8|  0.0|    0.5|      3.36|         0.0|                  1.0|       20.16|                 2.5|        0.0|\n",
      "|       2| 2024-10-04 21:53:44|  2024-10-04 21:59:30|              1|         0.72|         1|                 N|         163|         142|           1|        7.2|  1.0|    0.5|      2.44|         0.0|                  1.0|       14.64|                 2.5|        0.0|\n",
      "|       1| 2024-10-08 19:14:09|  2024-10-08 19:18:27|              0|          0.5|         1|                 N|         230|         186|           2|        5.8|  5.0|    0.5|       0.0|         0.0|                  1.0|        12.3|                 2.5|        0.0|\n",
      "+--------+--------------------+---------------------+---------------+-------------+----------+------------------+------------+------------+------------+-----------+-----+-------+----------+------------+---------------------+------------+--------------------+-----------+\n",
      "only showing top 20 rows\n",
      "\n"
     ]
    }
   ],
   "source": [
    "df_yellow.show()"
   ]
  },
  {
   "cell_type": "code",
   "execution_count": 15,
   "id": "0c7aede7-5eee-447b-ac3d-808300038230",
   "metadata": {},
   "outputs": [
    {
     "name": "stderr",
     "output_type": "stream",
     "text": [
      "/home/dheeru_user/spark/spark-3.3.2-bin-hadoop3/python/pyspark/sql/dataframe.py:229: FutureWarning: Deprecated in 2.0, use createOrReplaceTempView instead.\n",
      "  warnings.warn(\"Deprecated in 2.0, use createOrReplaceTempView instead.\", FutureWarning)\n"
     ]
    }
   ],
   "source": [
    "df_yellow.registerTempTable('yellow_trip')"
   ]
  },
  {
   "cell_type": "code",
   "execution_count": 16,
   "id": "1ccb9a1a-d872-40e8-9a33-66c787b63cc9",
   "metadata": {},
   "outputs": [
    {
     "name": "stderr",
     "output_type": "stream",
     "text": [
      "[Stage 7:>                                                          (0 + 4) / 4]\r"
     ]
    },
    {
     "name": "stdout",
     "output_type": "stream",
     "text": [
      "+--------+\n",
      "|count(1)|\n",
      "+--------+\n",
      "|  128893|\n",
      "+--------+\n",
      "\n"
     ]
    },
    {
     "name": "stderr",
     "output_type": "stream",
     "text": [
      "                                                                                \r"
     ]
    }
   ],
   "source": [
    "spark.sql(\"\"\"\n",
    "SELECT\n",
    "    COUNT(*)\n",
    "FROM\n",
    "    yellow_trip\n",
    "WHERE\n",
    "    DATE(tpep_pickup_datetime) = '2024-10-15'\n",
    "\"\"\").show()"
   ]
  },
  {
   "cell_type": "code",
   "execution_count": 17,
   "id": "d0c19aa3-02c8-4a4d-abf9-1faa82f90d32",
   "metadata": {},
   "outputs": [
    {
     "name": "stderr",
     "output_type": "stream",
     "text": [
      "[Stage 10:>                                                         (0 + 4) / 4]\r"
     ]
    },
    {
     "name": "stdout",
     "output_type": "stream",
     "text": [
      "+------------+\n",
      "|longest_trip|\n",
      "+------------+\n",
      "|         162|\n",
      "+------------+\n",
      "\n"
     ]
    },
    {
     "name": "stderr",
     "output_type": "stream",
     "text": [
      "                                                                                \r"
     ]
    }
   ],
   "source": [
    "spark.sql(\"\"\"\n",
    "SELECT\n",
    "    MAX(TIMESTAMPDIFF(HOUR, tpep_pickup_datetime, tpep_dropoff_datetime)) as longest_trip\n",
    "FROM\n",
    "    yellow_trip\n",
    "\"\"\").show()"
   ]
  },
  {
   "cell_type": "code",
   "execution_count": 19,
   "id": "f74b5f3d-9e14-478a-8a4f-71965a02090d",
   "metadata": {},
   "outputs": [],
   "source": [
    "df_zone = spark.read\\\n",
    "            .option(\"header\", \"true\")\\\n",
    "            .csv(\"/home/dheeru_user/spark/data/homework/taxi_zone_lookup.csv\")"
   ]
  },
  {
   "cell_type": "code",
   "execution_count": 20,
   "id": "5ad8a863-d100-45c7-ab2f-ad3923d97df0",
   "metadata": {},
   "outputs": [
    {
     "name": "stdout",
     "output_type": "stream",
     "text": [
      "+----------+-------------+--------------------+------------+\n",
      "|LocationID|      Borough|                Zone|service_zone|\n",
      "+----------+-------------+--------------------+------------+\n",
      "|         1|          EWR|      Newark Airport|         EWR|\n",
      "|         2|       Queens|         Jamaica Bay|   Boro Zone|\n",
      "|         3|        Bronx|Allerton/Pelham G...|   Boro Zone|\n",
      "|         4|    Manhattan|       Alphabet City| Yellow Zone|\n",
      "|         5|Staten Island|       Arden Heights|   Boro Zone|\n",
      "|         6|Staten Island|Arrochar/Fort Wad...|   Boro Zone|\n",
      "|         7|       Queens|             Astoria|   Boro Zone|\n",
      "|         8|       Queens|        Astoria Park|   Boro Zone|\n",
      "|         9|       Queens|          Auburndale|   Boro Zone|\n",
      "|        10|       Queens|        Baisley Park|   Boro Zone|\n",
      "|        11|     Brooklyn|          Bath Beach|   Boro Zone|\n",
      "|        12|    Manhattan|        Battery Park| Yellow Zone|\n",
      "|        13|    Manhattan|   Battery Park City| Yellow Zone|\n",
      "|        14|     Brooklyn|           Bay Ridge|   Boro Zone|\n",
      "|        15|       Queens|Bay Terrace/Fort ...|   Boro Zone|\n",
      "|        16|       Queens|             Bayside|   Boro Zone|\n",
      "|        17|     Brooklyn|             Bedford|   Boro Zone|\n",
      "|        18|        Bronx|        Bedford Park|   Boro Zone|\n",
      "|        19|       Queens|           Bellerose|   Boro Zone|\n",
      "|        20|        Bronx|             Belmont|   Boro Zone|\n",
      "+----------+-------------+--------------------+------------+\n",
      "only showing top 20 rows\n",
      "\n"
     ]
    }
   ],
   "source": [
    "df_zone.show()"
   ]
  },
  {
   "cell_type": "code",
   "execution_count": 21,
   "id": "fd1633f0-9114-4f67-b4e3-65ae8f519fa8",
   "metadata": {},
   "outputs": [],
   "source": [
    "df_zone.registerTempTable('zone')"
   ]
  },
  {
   "cell_type": "code",
   "execution_count": 28,
   "id": "e7d035af-bff1-4834-893c-5f3a7e051f97",
   "metadata": {},
   "outputs": [
    {
     "name": "stdout",
     "output_type": "stream",
     "text": [
      "+--------------------+---------+\n",
      "|                Zone|frequency|\n",
      "+--------------------+---------+\n",
      "|Governor's Island...|        1|\n",
      "+--------------------+---------+\n",
      "\n"
     ]
    }
   ],
   "source": [
    "spark.sql(\"\"\"\n",
    "SELECT\n",
    "    Zone,\n",
    "    COUNT(1) as frequency\n",
    "FROM\n",
    "    yellow_trip y\n",
    "    JOIN zone z\n",
    "    ON y.PULocationID = z.LocationID\n",
    "GROUP BY\n",
    "    Zone\n",
    "ORDER BY\n",
    "    frequency ASC\n",
    "LIMIT\n",
    "    1\n",
    "\"\"\").show()"
   ]
  },
  {
   "cell_type": "code",
   "execution_count": null,
   "id": "470c9237-2053-4570-ae9e-e5900848ddee",
   "metadata": {},
   "outputs": [],
   "source": []
  }
 ],
 "metadata": {
  "kernelspec": {
   "display_name": "Python 3 (ipykernel)",
   "language": "python",
   "name": "python3"
  },
  "language_info": {
   "codemirror_mode": {
    "name": "ipython",
    "version": 3
   },
   "file_extension": ".py",
   "mimetype": "text/x-python",
   "name": "python",
   "nbconvert_exporter": "python",
   "pygments_lexer": "ipython3",
   "version": "3.12.7"
  }
 },
 "nbformat": 4,
 "nbformat_minor": 5
}
